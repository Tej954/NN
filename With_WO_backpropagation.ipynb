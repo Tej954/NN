{
  "nbformat": 4,
  "nbformat_minor": 0,
  "metadata": {
    "colab": {
      "provenance": []
    },
    "kernelspec": {
      "name": "python3",
      "display_name": "Python 3"
    },
    "language_info": {
      "name": "python"
    }
  },
  "cells": [
    {
      "cell_type": "code",
      "execution_count": 6,
      "metadata": {
        "colab": {
          "base_uri": "https://localhost:8080/"
        },
        "id": "rbu2aRhYPH59",
        "outputId": "b62ef14f-87ab-44de-80a3-3b9a8bb99335"
      },
      "outputs": [
        {
          "output_type": "stream",
          "name": "stdout",
          "text": [
            "Without Backprop Evaluation:\n",
            "313/313 [==============================] - 1s 3ms/step - loss: 2.4279 - accuracy: 0.0729\n",
            "Epoch 1/2\n",
            "1875/1875 [==============================] - 13s 6ms/step - loss: 0.2024 - accuracy: 0.9406\n",
            "Epoch 2/2\n",
            "1875/1875 [==============================] - 12s 7ms/step - loss: 0.0813 - accuracy: 0.9747\n",
            "With Backprop Evaluation:\n",
            "313/313 [==============================] - 1s 2ms/step - loss: 0.0753 - accuracy: 0.9759\n"
          ]
        },
        {
          "output_type": "execute_result",
          "data": {
            "text/plain": [
              "[0.07525316625833511, 0.9758999943733215]"
            ]
          },
          "metadata": {},
          "execution_count": 6
        }
      ],
      "source": [
        "import numpy as np\n",
        "from keras.datasets import mnist\n",
        "from keras.models import Sequential\n",
        "from keras.layers import Dense\n",
        "#from keras.utils import np_utils\n",
        "import keras.utils as utils\n",
        "\n",
        "# Load and preprocess MNIST\n",
        "(X_train, y_train), (X_test, y_test) = mnist.load_data()\n",
        "X_train = X_train.reshape(60000, 784).astype('float32') / 255\n",
        "X_test = X_test.reshape(10000, 784).astype('float32') / 255\n",
        "#y_train = np_utils.to_categorical(y_train)\n",
        "#y_test = np_utils.to_categorical(y_test)\n",
        "\n",
        "y_train = utils.to_categorical(y_train)\n",
        "y_test = utils.to_categorical(y_test)\n",
        "\n",
        "\n",
        "# Simple Network (same for both methods)\n",
        "model = Sequential()\n",
        "model.add(Dense(512, activation='relu', input_shape=(784,)))\n",
        "model.add(Dense(10, activation='softmax'))\n",
        "model.compile(loss='categorical_crossentropy', optimizer='adam', metrics=['accuracy'])\n",
        "\n",
        "# ----- \"Training\" WITHOUT Backpropagation  -----\n",
        "def pseudo_train(model, data, labels):\n",
        "    #  Inefficient random 'adjustment'\n",
        "    for layer in model.layers:\n",
        "        weights = layer.get_weights()[0]\n",
        "        biases = layer.get_weights()[1]\n",
        "        layer.set_weights([weights + np.random.randn(*weights.shape) * 0.01,\n",
        "                           biases + np.random.randn(*biases.shape) * 0.01])\n",
        "\n",
        "# One 'epoch' for demonstration\n",
        "pseudo_train(model, X_train, y_train)\n",
        "print(\"Without Backprop Evaluation:\")\n",
        "model.evaluate(X_test, y_test)\n",
        "\n",
        "# ----- Training WITH Backpropagation (The Real Way) -----\n",
        "\n",
        "# Reset model weights (important after randomizing)\n",
        "model.compile(loss='categorical_crossentropy', optimizer='adam', metrics=['accuracy'])\n",
        "\n",
        "# Actual training using backpropagation\n",
        "model.fit(X_train, y_train, epochs=2, batch_size=32)\n",
        "print(\"With Backprop Evaluation:\")\n",
        "model.evaluate(X_test, y_test)\n"
      ]
    },
    {
      "cell_type": "code",
      "source": [],
      "metadata": {
        "id": "MU1ZaUmoP6u7"
      },
      "execution_count": null,
      "outputs": []
    }
  ]
}