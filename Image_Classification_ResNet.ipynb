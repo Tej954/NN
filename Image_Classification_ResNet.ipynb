{
  "nbformat": 4,
  "nbformat_minor": 0,
  "metadata": {
    "colab": {
      "provenance": []
    },
    "kernelspec": {
      "name": "python3",
      "display_name": "Python 3"
    },
    "language_info": {
      "name": "python"
    }
  },
  "cells": [
    {
      "cell_type": "code",
      "execution_count": 3,
      "metadata": {
        "colab": {
          "base_uri": "https://localhost:8080/"
        },
        "id": "n0_nI42BYvym",
        "outputId": "b4bc42f2-ea16-4161-ac89-03cb08471a14"
      },
      "outputs": [
        {
          "output_type": "stream",
          "name": "stdout",
          "text": [
            "Downloading data from https://storage.googleapis.com/tensorflow/keras-applications/resnet/resnet50_weights_tf_dim_ordering_tf_kernels.h5\n",
            "102967424/102967424 [==============================] - 1s 0us/step\n",
            "1/1 [==============================] - 2s 2s/step\n",
            "Downloading data from https://storage.googleapis.com/download.tensorflow.org/data/imagenet_class_index.json\n",
            "35363/35363 [==============================] - 0s 0us/step\n",
            "Top Predictions:\n",
            "Labrador_retriever: 76.72%\n",
            "golden_retriever: 21.57%\n",
            "kuvasz: 0.57%\n"
          ]
        }
      ],
      "source": [
        "import numpy as np\n",
        "from keras.preprocessing import image\n",
        "from keras.applications.resnet50 import ResNet50, preprocess_input, decode_predictions\n",
        "\n",
        "# Load pre-trained ResNet50 model\n",
        "model = ResNet50(weights='imagenet')\n",
        "\n",
        "# Load and preprocess the image\n",
        "img_path = 'dog1.jpg'  # Change this to the path of your image\n",
        "img = image.load_img(img_path, target_size=(224, 224))\n",
        "img_array = image.img_to_array(img)\n",
        "img_array = np.expand_dims(img_array, axis=0)\n",
        "img_array = preprocess_input(img_array)\n",
        "\n",
        "# Make predictions on the image using the pre-trained model\n",
        "predictions = model.predict(img_array)\n",
        "\n",
        "# Decode predictions\n",
        "decoded_predictions = decode_predictions(predictions, top=3)[0]\n",
        "\n",
        "# Print the top predicted labels\n",
        "print(\"Top Predictions:\")\n",
        "for prediction in decoded_predictions:\n",
        "    print(f'{prediction[1]}: {prediction[2]*100:.2f}%')\n"
      ]
    },
    {
      "cell_type": "code",
      "source": [],
      "metadata": {
        "id": "kLcdM8KbYwSA"
      },
      "execution_count": null,
      "outputs": []
    }
  ]
}