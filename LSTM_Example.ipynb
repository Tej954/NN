{
  "nbformat": 4,
  "nbformat_minor": 0,
  "metadata": {
    "colab": {
      "provenance": []
    },
    "kernelspec": {
      "name": "python3",
      "display_name": "Python 3"
    },
    "language_info": {
      "name": "python"
    }
  },
  "cells": [
    {
      "cell_type": "code",
      "execution_count": 8,
      "metadata": {
        "colab": {
          "base_uri": "https://localhost:8080/"
        },
        "id": "CgJBOwi5R_cF",
        "outputId": "ffd45ad1-ed5c-492d-e549-c144e28fc87e"
      },
      "outputs": [
        {
          "output_type": "stream",
          "name": "stdout",
          "text": [
            "1/1 [==============================] - 0s 429ms/step\n",
            "Predictions: [24.724642 24.717575 24.718248 24.724983 21.076437 17.96202  24.71681\n",
            " 24.671108 24.723436 11.163681]\n"
          ]
        }
      ],
      "source": [
        "import numpy as np\n",
        "from keras.models import Sequential\n",
        "from keras.layers import LSTM, Dense\n",
        "\n",
        "# Generate synthetic time series data\n",
        "def generate_data(n_samples=1000, sequence_length=10):\n",
        "    X = []\n",
        "    y = []\n",
        "    for _ in range(n_samples):\n",
        "        start = np.random.randint(0, 100)\n",
        "        end = start + sequence_length\n",
        "        sequence = np.arange(start, end, dtype=np.float32)\n",
        "        X.append(sequence[:-1])\n",
        "        y.append(sequence[-1])\n",
        "    return np.array(X), np.array(y)\n",
        "\n",
        "# Create LSTM model\n",
        "model = Sequential([\n",
        "    LSTM(50, input_shape=(9, 1)),\n",
        "    Dense(1)\n",
        "])\n",
        "model.compile(optimizer='adam', loss='mse')\n",
        "\n",
        "# Generate data\n",
        "X, y = generate_data()\n",
        "\n",
        "# Reshape input data for LSTM (samples, time steps, features)\n",
        "X = X.reshape((X.shape[0], X.shape[1], 1))\n",
        "\n",
        "# Train the model\n",
        "model.fit(X, y, epochs=10, batch_size=32, verbose=0)\n",
        "\n",
        "# Make predictions\n",
        "predictions = model.predict(X[:10])\n",
        "print(\"Predictions:\", predictions.flatten())\n"
      ]
    },
    {
      "cell_type": "code",
      "source": [
        "\n"
      ],
      "metadata": {
        "id": "GMZ8--crSf96"
      },
      "execution_count": null,
      "outputs": []
    }
  ]
}