{
  "nbformat": 4,
  "nbformat_minor": 0,
  "metadata": {
    "colab": {
      "provenance": []
    },
    "kernelspec": {
      "name": "python3",
      "display_name": "Python 3"
    },
    "language_info": {
      "name": "python"
    }
  },
  "cells": [
    {
      "cell_type": "code",
      "execution_count": 1,
      "metadata": {
        "colab": {
          "base_uri": "https://localhost:8080/"
        },
        "id": "wALkbH8KmtEH",
        "outputId": "f8d2d901-684d-4f23-b16c-d0a40792b92f"
      },
      "outputs": [
        {
          "output_type": "stream",
          "name": "stdout",
          "text": [
            "Activation: sigmoid, Test Loss: 0.3351\n",
            "Activation: relu, Test Loss: 0.2740\n",
            "Activation: tanh, Test Loss: 0.2864\n"
          ]
        }
      ],
      "source": [
        "import numpy as np\n",
        "from sklearn.datasets import fetch_california_housing\n",
        "from sklearn.model_selection import train_test_split\n",
        "from sklearn.preprocessing import StandardScaler\n",
        "from keras.models import Sequential\n",
        "from keras.layers import Dense\n",
        "\n",
        "# Load California housing dataset\n",
        "california_housing = fetch_california_housing()\n",
        "X = california_housing.data\n",
        "y = california_housing.target\n",
        "\n",
        "# Split the data into training and test sets\n",
        "X_train, X_test, y_train, y_test = train_test_split(X, y, test_size=0.2, random_state=42)\n",
        "\n",
        "# Standardize features\n",
        "scaler = StandardScaler()\n",
        "X_train_scaled = scaler.fit_transform(X_train)\n",
        "X_test_scaled = scaler.transform(X_test)\n",
        "\n",
        "# Define function to create model\n",
        "def create_model(activation):\n",
        "    model = Sequential()\n",
        "    model.add(Dense(units=64, activation=activation, input_dim=X_train_scaled.shape[1]))\n",
        "    model.add(Dense(units=32, activation=activation))\n",
        "    model.add(Dense(units=1))  # Linear activation for regression\n",
        "    model.compile(optimizer='adam', loss='mean_squared_error')\n",
        "    return model\n",
        "\n",
        "# Train and evaluate models with different activation functions\n",
        "activation_functions = ['sigmoid', 'relu', 'tanh']\n",
        "for activation in activation_functions:\n",
        "    model = create_model(activation)\n",
        "    model.fit(X_train_scaled, y_train, epochs=50, batch_size=32, verbose=0)\n",
        "    loss = model.evaluate(X_test_scaled, y_test, verbose=0)\n",
        "    print(f'Activation: {activation}, Test Loss: {loss:.4f}')\n"
      ]
    }
  ]
}