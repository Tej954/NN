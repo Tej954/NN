{
  "nbformat": 4,
  "nbformat_minor": 0,
  "metadata": {
    "colab": {
      "provenance": []
    },
    "kernelspec": {
      "name": "python3",
      "display_name": "Python 3"
    },
    "language_info": {
      "name": "python"
    }
  },
  "cells": [
    {
      "cell_type": "code",
      "execution_count": 3,
      "metadata": {
        "id": "k66H2yr2PvtJ"
      },
      "outputs": [],
      "source": [
        "import numpy as np\n",
        "from keras.models import Sequential\n",
        "from keras.layers import Dense\n",
        "\n",
        "# Define input data\n",
        "X = np.array([[0, 0], [0, 1], [1, 0], [1, 1]])\n",
        "# Define output data\n",
        "y = np.array([[0], [1], [1], [0]])\n",
        "\n",
        "# Create a neural network without bias\n",
        "model_no_bias = Sequential([\n",
        "    Dense(2, input_dim=2, activation='sigmoid', use_bias=False),\n",
        "    Dense(1, activation='sigmoid', use_bias=False)\n",
        "])\n",
        "\n",
        "# Compile the model\n",
        "model_no_bias.compile(optimizer='adam', loss='binary_crossentropy', metrics=['accuracy'])\n",
        "\n",
        "# Train the model\n",
        "history_no_bias = model_no_bias.fit(X, y, epochs=1000, verbose=0)\n"
      ]
    },
    {
      "cell_type": "code",
      "source": [
        "\n",
        "\n",
        "# Create a neural network with bias\n",
        "model_with_bias = Sequential([\n",
        "    Dense(2, input_dim=2, activation='sigmoid', use_bias=True),\n",
        "    Dense(1, activation='sigmoid', use_bias=True)\n",
        "])\n",
        "\n",
        "# Compile the model\n",
        "model_with_bias.compile(optimizer='adam', loss='binary_crossentropy', metrics=['accuracy'])\n",
        "\n",
        "# Train the model\n",
        "history_with_bias = model_with_bias.fit(X, y, epochs=1000, verbose=0)\n",
        "\n",
        "# Evaluate the models\n",
        "loss_no_bias, accuracy_no_bias = model_no_bias.evaluate(X, y)\n",
        "print(\"Model without Bias - Loss:\", loss_no_bias, \"Accuracy:\", accuracy_no_bias)\n",
        "\n",
        "loss_with_bias, accuracy_with_bias = model_with_bias.evaluate(X, y)\n",
        "print(\"Model with Bias - Loss:\", loss_with_bias, \"Accuracy:\", accuracy_with_bias)\n"
      ],
      "metadata": {
        "colab": {
          "base_uri": "https://localhost:8080/"
        },
        "id": "UPGfxaGeUTDr",
        "outputId": "15f3c404-7f7c-4e1f-9602-21476aca26c2"
      },
      "execution_count": 4,
      "outputs": [
        {
          "output_type": "stream",
          "name": "stdout",
          "text": [
            "1/1 [==============================] - 0s 170ms/step - loss: 0.6967 - accuracy: 0.5000\n",
            "Model without Bias - Loss: 0.6967353820800781 Accuracy: 0.5\n"
          ]
        },
        {
          "output_type": "stream",
          "name": "stderr",
          "text": [
            "WARNING:tensorflow:5 out of the last 1887 calls to <function Model.make_test_function.<locals>.test_function at 0x7fbabfd2b490> triggered tf.function retracing. Tracing is expensive and the excessive number of tracings could be due to (1) creating @tf.function repeatedly in a loop, (2) passing tensors with different shapes, (3) passing Python objects instead of tensors. For (1), please define your @tf.function outside of the loop. For (2), @tf.function has reduce_retracing=True option that can avoid unnecessary retracing. For (3), please refer to https://www.tensorflow.org/guide/function#controlling_retracing and https://www.tensorflow.org/api_docs/python/tf/function for  more details.\n"
          ]
        },
        {
          "output_type": "stream",
          "name": "stdout",
          "text": [
            "1/1 [==============================] - 0s 192ms/step - loss: 0.6915 - accuracy: 0.5000\n",
            "Model with Bias - Loss: 0.691470205783844 Accuracy: 0.5\n"
          ]
        }
      ]
    },
    {
      "cell_type": "code",
      "source": [],
      "metadata": {
        "id": "UGXwg50PUVx1"
      },
      "execution_count": null,
      "outputs": []
    }
  ]
}