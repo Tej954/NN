{
  "nbformat": 4,
  "nbformat_minor": 0,
  "metadata": {
    "colab": {
      "provenance": []
    },
    "kernelspec": {
      "name": "python3",
      "display_name": "Python 3"
    },
    "language_info": {
      "name": "python"
    }
  },
  "cells": [
    {
      "cell_type": "code",
      "execution_count": 1,
      "metadata": {
        "id": "_WqRNNx67EfG"
      },
      "outputs": [],
      "source": [
        "import numpy as np\n",
        "\n",
        "# Mean Squared Error (MSE)\n",
        "def mean_squared_error(y_true, y_pred):\n",
        "    return np.mean(np.square(y_true - y_pred))\n",
        "\n",
        "# Binary Cross-Entropy (BinaryCE)\n",
        "def binary_cross_entropy(y_true, y_pred):\n",
        "    epsilon = 1e-15\n",
        "    y_pred = np.clip(y_pred, epsilon, 1 - epsilon)  # Avoid log(0)\n",
        "    return -np.mean(y_true * np.log(y_pred) + (1 - y_true) * np.log(1 - y_pred))\n",
        "\n",
        "# Categorical Cross-Entropy (CategoricalCE)\n",
        "def categorical_cross_entropy(y_true, y_pred):\n",
        "    epsilon = 1e-15\n",
        "    y_pred = np.clip(y_pred, epsilon, 1 - epsilon)  # Avoid log(0)\n",
        "    return -np.mean(y_true * np.log(y_pred))\n"
      ]
    },
    {
      "cell_type": "code",
      "source": [
        "\n",
        "# Example usage\n",
        "# Assuming ground truth and predicted values\n",
        "y_true_regression = np.array([2, 3, 4, 5])\n",
        "y_pred_regression = np.array([1.8, 3.2, 3.7, 5.2])\n",
        "\n",
        "y_true_binary = np.array([0, 1, 1, 0])\n",
        "y_pred_binary = np.array([0.1, 0.9, 0.8, 0.2])\n",
        "\n",
        "y_true_categorical = np.array([[0, 1, 0], [1, 0, 0], [0, 0, 1]])\n",
        "y_pred_categorical = np.array([[0.2, 0.7, 0.1], [0.8, 0.1, 0.1], [0.1, 0.2, 0.7]])\n",
        "\n",
        "print(\"y_true_regression :\\n\",y_true_regression)\n",
        "print(\"y_pred_regression :\\n\",y_pred_regression)\n",
        "\n",
        "print(\"y_true_binary :\\n\",y_true_binary)\n",
        "print(\"y_pred_binary :\\n\",y_pred_binary)\n",
        "\n",
        "print(\"y_true_categorical :\\n\",y_true_categorical)\n",
        "print(\"y_pred_categorical :\\n\",y_pred_categorical)\n"
      ],
      "metadata": {
        "colab": {
          "base_uri": "https://localhost:8080/"
        },
        "id": "vmHScK2x7IWp",
        "outputId": "bd0a8b7d-9e8e-4ecc-eb7b-d73766f3e92a"
      },
      "execution_count": 8,
      "outputs": [
        {
          "output_type": "stream",
          "name": "stdout",
          "text": [
            "y_true_regression :\n",
            " [2 3 4 5]\n",
            "y_pred_regression :\n",
            " [1.8 3.2 3.7 5.2]\n",
            "y_true_binary :\n",
            " [0 1 1 0]\n",
            "y_pred_binary :\n",
            " [0.1 0.9 0.8 0.2]\n",
            "y_true_categorical :\n",
            " [[0 1 0]\n",
            " [1 0 0]\n",
            " [0 0 1]]\n",
            "y_pred_categorical :\n",
            " [[0.2 0.7 0.1]\n",
            " [0.8 0.1 0.1]\n",
            " [0.1 0.2 0.7]]\n"
          ]
        }
      ]
    },
    {
      "cell_type": "code",
      "source": [
        "\n",
        "# Calculate losses\n",
        "mse_loss = mean_squared_error(y_true_regression, y_pred_regression)\n",
        "binary_ce_loss = binary_cross_entropy(y_true_binary, y_pred_binary)\n",
        "categorical_ce_loss = categorical_cross_entropy(y_true_categorical, y_pred_categorical)\n",
        "\n",
        "# Print losses\n",
        "print(\"Mean Squared Error (MSE):\", mse_loss)\n",
        "print(\"Binary Cross-Entropy (BinaryCE):\", binary_ce_loss)\n",
        "print(\"Categorical Cross-Entropy (CategoricalCE):\", categorical_ce_loss)\n"
      ],
      "metadata": {
        "colab": {
          "base_uri": "https://localhost:8080/"
        },
        "id": "uSyHYGjR9HOs",
        "outputId": "fb6a6f48-5a6d-47a7-ecde-aa6d4cd66dcf"
      },
      "execution_count": 9,
      "outputs": [
        {
          "output_type": "stream",
          "name": "stdout",
          "text": [
            "Mean Squared Error (MSE): 0.0525\n",
            "Binary Cross-Entropy (BinaryCE): 0.164252033486018\n",
            "Categorical Cross-Entropy (CategoricalCE): 0.10405482657685274\n"
          ]
        }
      ]
    },
    {
      "cell_type": "code",
      "source": [],
      "metadata": {
        "id": "D5RBbizZ9vdz"
      },
      "execution_count": null,
      "outputs": []
    }
  ]
}