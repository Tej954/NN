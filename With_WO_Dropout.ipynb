{
  "nbformat": 4,
  "nbformat_minor": 0,
  "metadata": {
    "colab": {
      "provenance": []
    },
    "kernelspec": {
      "name": "python3",
      "display_name": "Python 3"
    },
    "language_info": {
      "name": "python"
    }
  },
  "cells": [
    {
      "cell_type": "code",
      "execution_count": 2,
      "metadata": {
        "colab": {
          "base_uri": "https://localhost:8080/"
        },
        "id": "oq-zeJwB4eVe",
        "outputId": "825c970f-9066-44f3-cb14-dc33b7f61109"
      },
      "outputs": [
        {
          "output_type": "stream",
          "name": "stdout",
          "text": [
            "313/313 [==============================] - 1s 2ms/step - loss: 0.1250 - accuracy: 0.9687\n",
            "Model without Dropout - Test Loss: 0.1249823346734047\n",
            "Model without Dropout - Test Accuracy: 0.9686999917030334\n",
            "313/313 [==============================] - 1s 3ms/step - loss: 0.0758 - accuracy: 0.9789\n",
            "Model with Dropout - Test Loss: 0.07580608129501343\n",
            "Model with Dropout - Test Accuracy: 0.9789000153541565\n"
          ]
        }
      ],
      "source": [
        "import numpy as np\n",
        "from keras.datasets import mnist\n",
        "from keras.models import Sequential\n",
        "from keras.layers import Dense, Dropout\n",
        "from keras.utils import to_categorical\n",
        "\n",
        "# Load the MNIST dataset\n",
        "(X_train, y_train), (X_test, y_test) = mnist.load_data()\n",
        "\n",
        "# Preprocess the data\n",
        "X_train = X_train.reshape(-1, 28*28) / 255.0\n",
        "X_test = X_test.reshape(-1, 28*28) / 255.0\n",
        "y_train = to_categorical(y_train)\n",
        "y_test = to_categorical(y_test)\n",
        "\n",
        "# Define a simple deep learning model without dropout\n",
        "model_no_dropout = Sequential()\n",
        "model_no_dropout.add(Dense(128, activation='relu', input_shape=(784,)))\n",
        "model_no_dropout.add(Dense(64, activation='relu'))\n",
        "model_no_dropout.add(Dense(10, activation='softmax'))\n",
        "\n",
        "# Compile the model without dropout\n",
        "model_no_dropout.compile(optimizer='adam', loss='categorical_crossentropy', metrics=['accuracy'])\n",
        "\n",
        "# Train the model without dropout\n",
        "history_no_dropout = model_no_dropout.fit(X_train, y_train, epochs=10, batch_size=32, validation_split=0.2, verbose=0)\n",
        "\n",
        "# Evaluate the model without dropout on test data\n",
        "loss_no_dropout, accuracy_no_dropout = model_no_dropout.evaluate(X_test, y_test)\n",
        "print(\"Model without Dropout - Test Loss:\", loss_no_dropout)\n",
        "print(\"Model without Dropout - Test Accuracy:\", accuracy_no_dropout)\n",
        "\n",
        "# Define a simple deep learning model with dropout\n",
        "model_with_dropout = Sequential()\n",
        "model_with_dropout.add(Dense(128, activation='relu', input_shape=(784,)))\n",
        "model_with_dropout.add(Dropout(0.2))  # Dropout layer with a dropout rate of 20%\n",
        "model_with_dropout.add(Dense(64, activation='relu'))\n",
        "model_with_dropout.add(Dropout(0.2))\n",
        "model_with_dropout.add(Dense(10, activation='softmax'))\n",
        "\n",
        "# Compile the model with dropout\n",
        "model_with_dropout.compile(optimizer='adam', loss='categorical_crossentropy', metrics=['accuracy'])\n",
        "\n",
        "# Train the model with dropout\n",
        "history_with_dropout = model_with_dropout.fit(X_train, y_train, epochs=10, batch_size=32, validation_split=0.2, verbose=0)\n",
        "\n",
        "# Evaluate the model with dropout on test data\n",
        "loss_with_dropout, accuracy_with_dropout = model_with_dropout.evaluate(X_test, y_test)\n",
        "print(\"Model with Dropout - Test Loss:\", loss_with_dropout)\n",
        "print(\"Model with Dropout - Test Accuracy:\", accuracy_with_dropout)\n"
      ]
    },
    {
      "cell_type": "code",
      "source": [
        "#We define two separate deep learning models, one without dropout regularization (model_no_dropout) and one with dropout regularization (model_with_dropout).\n",
        "#We train and evaluate both models on the MNIST dataset.\n",
        "#Finally, we print the test loss and accuracy for both models to compare their performance."
      ],
      "metadata": {
        "id": "aXHE8uAd4e3R"
      },
      "execution_count": null,
      "outputs": []
    }
  ]
}